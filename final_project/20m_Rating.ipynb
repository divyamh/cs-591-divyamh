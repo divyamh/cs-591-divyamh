{
 "cells": [
  {
   "cell_type": "code",
   "execution_count": 1,
   "metadata": {
    "collapsed": true
   },
   "outputs": [],
   "source": [
    "import pandas as pd\n",
    "import csv\n",
    "import numpy as np\n",
    "from math import sqrt\n",
    "from sklearn.feature_extraction.text import CountVectorizer\n",
    "countVector = CountVectorizer(min_df=1)"
   ]
  },
  {
   "cell_type": "code",
   "execution_count": 2,
   "metadata": {
    "collapsed": false
   },
   "outputs": [
    {
     "data": {
      "text/html": [
       "<div>\n",
       "<table border=\"1\" class=\"dataframe\">\n",
       "  <thead>\n",
       "    <tr style=\"text-align: right;\">\n",
       "      <th></th>\n",
       "      <th>userid</th>\n",
       "      <th>movieid</th>\n",
       "      <th>rating</th>\n",
       "      <th>time</th>\n",
       "    </tr>\n",
       "  </thead>\n",
       "  <tbody>\n",
       "    <tr>\n",
       "      <th>0</th>\n",
       "      <td>50286</td>\n",
       "      <td>2710</td>\n",
       "      <td>1.0</td>\n",
       "      <td>1070231811</td>\n",
       "    </tr>\n",
       "    <tr>\n",
       "      <th>1</th>\n",
       "      <td>108170</td>\n",
       "      <td>2324</td>\n",
       "      <td>4.5</td>\n",
       "      <td>1111820093</td>\n",
       "    </tr>\n",
       "    <tr>\n",
       "      <th>2</th>\n",
       "      <td>55219</td>\n",
       "      <td>436</td>\n",
       "      <td>3.0</td>\n",
       "      <td>946372124</td>\n",
       "    </tr>\n",
       "    <tr>\n",
       "      <th>3</th>\n",
       "      <td>19590</td>\n",
       "      <td>5316</td>\n",
       "      <td>5.0</td>\n",
       "      <td>1421784683</td>\n",
       "    </tr>\n",
       "    <tr>\n",
       "      <th>4</th>\n",
       "      <td>130580</td>\n",
       "      <td>3208</td>\n",
       "      <td>1.0</td>\n",
       "      <td>947895307</td>\n",
       "    </tr>\n",
       "  </tbody>\n",
       "</table>\n",
       "</div>"
      ],
      "text/plain": [
       "   userid movieid rating        time\n",
       "0   50286    2710    1.0  1070231811\n",
       "1  108170    2324    4.5  1111820093\n",
       "2   55219     436    3.0   946372124\n",
       "3   19590    5316    5.0  1421784683\n",
       "4  130580    3208    1.0   947895307"
      ]
     },
     "execution_count": 2,
     "metadata": {},
     "output_type": "execute_result"
    }
   ],
   "source": [
    "with open('./ml-20m/shuffledratings.csv') as movief:\n",
    "    reader = csv.reader(movief)\n",
    "    largemovielist = list(reader)\n",
    "      \n",
    "movieratingdf = pd.DataFrame(largemovielist, columns = ['userid','movieid','rating','time'])\n",
    "movieratingdf[0:5]"
   ]
  },
  {
   "cell_type": "markdown",
   "metadata": {
    "collapsed": true
   },
   "source": [
    "movieratingdf = movieratingdf.drop('time',axis=1)"
   ]
  },
  {
   "cell_type": "code",
   "execution_count": 5,
   "metadata": {
    "collapsed": false
   },
   "outputs": [],
   "source": [
    "movieratingdf['rating'] = movieratingdf['rating'].apply(lambda x:float(x))\n",
    "\n",
    "movieratingdf['userid'] = movieratingdf['userid'].apply(lambda x:int(x))\n",
    "movieratingdf['movieid'] = movieratingdf['movieid'].apply(lambda x:int(x))\n",
    "globalAverage = float(sum(movieratingdf['rating']))/len(movieratingdf['rating'])\n"
   ]
  },
  {
   "cell_type": "code",
   "execution_count": 5,
   "metadata": {
    "collapsed": false
   },
   "outputs": [
    {
     "name": "stdout",
     "output_type": "stream",
     "text": [
      "3.5255285643\n"
     ]
    }
   ],
   "source": [
    "print globalAverage"
   ]
  },
  {
   "cell_type": "code",
   "execution_count": 6,
   "metadata": {
    "collapsed": true
   },
   "outputs": [],
   "source": [
    "test1df = movieratingdf.tail(2000263)\n",
    "train1df = movieratingdf.head(18000000)"
   ]
  },
  {
   "cell_type": "code",
   "execution_count": 7,
   "metadata": {
    "collapsed": true
   },
   "outputs": [],
   "source": [
    "test1df = test1df.reset_index()"
   ]
  },
  {
   "cell_type": "code",
   "execution_count": 8,
   "metadata": {
    "collapsed": false,
    "scrolled": true
   },
   "outputs": [
    {
     "name": "stdout",
     "output_type": "stream",
     "text": [
      "138493 131262 1 1\n"
     ]
    }
   ],
   "source": [
    "usersize=movieratingdf['userid'].max(skipna=False)\n",
    "itemsize=movieratingdf['movieid'].max(skipna=False)\n",
    "minuser = movieratingdf['userid'].min(skipna=False)\n",
    "minitem = movieratingdf['movieid'].min(skipna=False)\n",
    "print usersize,itemsize,minuser,minitem"
   ]
  },
  {
   "cell_type": "code",
   "execution_count": 9,
   "metadata": {
    "collapsed": false
   },
   "outputs": [
    {
     "name": "stdout",
     "output_type": "stream",
     "text": [
      "(138494, 10)\n",
      "(131263, 10)\n",
      "(10, 131263)\n",
      "[ 0.36455917  0.0472391   0.9855845   0.9006411   0.42788473]\n",
      "[ 0.0016125   0.31885726  0.62776488  0.45535077  0.4355597 ]\n",
      "[ 0.71126206  0.87521804  0.95521402  0.04970854  0.71587022  0.25963511\n",
      "  0.13270262  0.23573297  0.47390155  0.84431391]\n",
      "[ 0.67207045  0.17789316  0.80830351  0.57208468  0.40208603  0.56979037\n",
      "  0.66602248  0.633882    0.74351331  0.43576283]\n"
     ]
    }
   ],
   "source": [
    "#adding 1 since the indexes for movies and users start from 1\n",
    "#When we recommend we wont consider bias of 0 and pu and pq of 0\n",
    "k=10\n",
    "bu = np.random.rand(usersize+1)\n",
    "bi = np.random.rand(itemsize+1)\n",
    "pu = np.random.rand(usersize+1,k)\n",
    "qi = np.random.rand(itemsize+1,k)\n",
    "lamda = 0.02\n",
    "learningrate = 0.02\n",
    "errorlist = []\n",
    "print pu.shape\n",
    "print qi.shape\n",
    "qi = qi.T\n",
    "print qi.shape\n",
    "print bu[0:5]\n",
    "print bi[0:5]\n",
    "print pu[0,:]\n",
    "print qi[:,0]"
   ]
  },
  {
   "cell_type": "markdown",
   "metadata": {},
   "source": [
    "The below code is used to learn the bias without matrix factorisation. The final results have been obtained with matrix factorisation"
   ]
  },
  {
   "cell_type": "code",
   "execution_count": null,
   "metadata": {
    "collapsed": true
   },
   "outputs": [],
   "source": [
    "learningrate = 0.01\n",
    "for i in range(1):\n",
    "    errorlist = []\n",
    "    for i in range(len(train1df)):\n",
    "        userid = train1df['userid'][i]\n",
    "        movieid = train1df['movieid'][i]\n",
    "        error = train1df['rating'][i]-(globalAverage+bu[userid]+bi[movieid])#+np.dot(pu[userid,:],qi[:,itemid])\n",
    "        bu[userid]=bu[userid]+(learningrate*(error-(lamda*bu[userid])))\n",
    "        bi[movieid]=bi[movieid]+(learningrate*(error-(lamda*bi[movieid])))\n",
    "        #qcol = qi[:,itemid]+(learningrate*(error*pu[userid,:]-lamda*qi[:,itemid]))\n",
    "        #prow = pu[userid,:]+(learningrate*(error*qi[:,itemid]-lamda*pu[userid,:]))\n",
    "        #qi[:,itemid]=qcol\n",
    "        #pu[userid,:]=prow\n",
    "        errorlist.append(error)"
   ]
  },
  {
   "cell_type": "code",
   "execution_count": 21,
   "metadata": {
    "collapsed": true
   },
   "outputs": [],
   "source": [
    "learningrate = 0.02\n",
    "for i in range(1):\n",
    "    errorlist = []\n",
    "    for i in range(len(train1df)):\n",
    "        userid = train1df['userid'][i]\n",
    "        movieid = train1df['movieid'][i]\n",
    "        error = train1df['rating'][i]-(globalAverage+bu[userid]+bi[movieid]+np.dot(pu[userid,:],qi[:,movieid]))\n",
    "        bu[userid]=bu[userid]+(learningrate*(error-(lamda*bu[userid])))\n",
    "        bi[movieid]=bi[movieid]+(learningrate*(error-(lamda*bi[movieid])))\n",
    "        qcol = qi[:,movieid]+(learningrate*(error*pu[userid,:]-lamda*qi[:,movieid]))\n",
    "        prow = pu[userid,:]+(learningrate*(error*qi[:,movieid]-lamda*pu[userid,:]))\n",
    "        qi[:,movieid]=qcol\n",
    "        pu[userid,:]=prow\n",
    "        errorlist.append(error)"
   ]
  },
  {
   "cell_type": "markdown",
   "metadata": {},
   "source": [
    "The below code is used to plot the error of stochastic gradient descent. The error has been average over 20 million values"
   ]
  },
  {
   "cell_type": "code",
   "execution_count": 22,
   "metadata": {
    "collapsed": false,
    "scrolled": true
   },
   "outputs": [
    {
     "data": {
      "image/png": "[encoded data removed]",
      "text/plain": [
       "<matplotlib.figure.Figure at 0x2512f7290>"
      ]
     },
     "metadata": {},
     "output_type": "display_data"
    }
   ],
   "source": [
    "import matplotlib.pyplot as plt\n",
    "%matplotlib inline\n",
    "initial = 0\n",
    "averageerror = []\n",
    "for i in range(1,180):\n",
    "    final = i*100000\n",
    "    average = sum(errorlist[initial:final])/100000\n",
    "    averageerror.append(average)\n",
    "    initial = final\n",
    "plt.plot(averageerror)\n",
    "plt.show()\n"
   ]
  },
  {
   "cell_type": "code",
   "execution_count": 15,
   "metadata": {
    "collapsed": true
   },
   "outputs": [],
   "source": [
    "def getRMSE(df):\n",
    "    df['error']=(df['prediction']-df['rating'])\n",
    "    df['error']=df['error'].apply(lambda x:x*x)\n",
    "    RMSE = sqrt((sum(df['error']))/float(len(df)))\n",
    "    print RMSE"
   ]
  },
  {
   "cell_type": "code",
   "execution_count": 16,
   "metadata": {
    "collapsed": true
   },
   "outputs": [],
   "source": [
    "train1userid = train1df['userid'].unique()\n",
    "train1movieid = train1df['movieid'].unique()"
   ]
  },
  {
   "cell_type": "code",
   "execution_count": 32,
   "metadata": {
    "collapsed": true
   },
   "outputs": [],
   "source": [
    "def getPrediction(test_df):\n",
    "    ratinglist = []\n",
    "    for i in range(len(test_df)):\n",
    "        userid = test_df['userid'][i]\n",
    "        itemid = test_df['movieid'][i]\n",
    "        if userid in train1userid and itemid in train1movieid:\n",
    "            rating = globalAverage+bu[userid]+bi[itemid]#+np.dot(pu[userIdDict[userid],:],qi[:,itemIdDict[itemid]])\n",
    "        elif itemid in train1movieid:\n",
    "            rating = globalAverage+bi[itemid]\n",
    "        elif userid in train1userid:\n",
    "            rating = globalAverage+bu[userid]\n",
    "        else:\n",
    "            rating = globalAverage\n",
    "        ratinglist.append(rating)\n",
    "    test_df['prediction'] = ratinglist\n",
    "    return test_df['prediction']"
   ]
  },
  {
   "cell_type": "code",
   "execution_count": 17,
   "metadata": {
    "collapsed": true
   },
   "outputs": [],
   "source": [
    "#Get prediction with matrix factorisation\n",
    "def getPrediction_with_matrix(test_df):\n",
    "    ratinglist = []\n",
    "    for i in range(len(test_df)):\n",
    "        userid = test_df['userid'][i]\n",
    "        itemid = test_df['movieid'][i]\n",
    "        if userid in train1userid and itemid in train1movieid:\n",
    "            rating = globalAverage+bu[userid]+bi[itemid]+np.dot(pu[userid,:],qi[:,itemid])\n",
    "        elif itemid in train1movieid:\n",
    "            rating = globalAverage+bi[itemid]\n",
    "        elif userid in train1userid:\n",
    "            rating = globalAverage+bu[userid]\n",
    "        else:\n",
    "            rating = globalAverage\n",
    "        ratinglist.append(rating)\n",
    "    test_df['prediction'] = ratinglist\n",
    "    return test_df['prediction']"
   ]
  },
  {
   "cell_type": "code",
   "execution_count": 49,
   "metadata": {
    "collapsed": false
   },
   "outputs": [],
   "source": [
    "test1df['prediction'] = getPrediction(test1df)"
   ]
  },
  {
   "cell_type": "code",
   "execution_count": 23,
   "metadata": {
    "collapsed": false
   },
   "outputs": [],
   "source": [
    "test1df['prediction'] = getPrediction_with_matrix(test1df)"
   ]
  },
  {
   "cell_type": "code",
   "execution_count": null,
   "metadata": {
    "collapsed": false
   },
   "outputs": [],
   "source": [
    "test1df[1:100]"
   ]
  },
  {
   "cell_type": "code",
   "execution_count": 24,
   "metadata": {
    "collapsed": false
   },
   "outputs": [
    {
     "name": "stdout",
     "output_type": "stream",
     "text": [
      "0.86595408744\n"
     ]
    }
   ],
   "source": [
    "RMSE = getRMSE(test1df)"
   ]
  },
  {
   "cell_type": "code",
   "execution_count": 27,
   "metadata": {
    "collapsed": false
   },
   "outputs": [],
   "source": []
  },
  {
   "cell_type": "markdown",
   "metadata": {},
   "source": [
    "On 20 M data:\n",
    "1)   learning rate = 0.02 lambda = 0.1 RMSE = 0.87195 n = 1\n",
    "2)   learning rate = 0.02 lambda = 0.01 RMSE = 0.866\n",
    "3)  learning rate = 0.02 lambda = 0.01 RMSE = 0.8653 n = 3\n",
    "\n",
    "With Matrix Factorisation:\n",
    "4) learning rate = 0.02 lambda = 0.02 RMSE = 0.8748 n = 1\n",
    "5) learning rate = 0.02 lambda = 0.01 RMSE = 0.845 n = 1\n",
    "6) learning rate = 0.02 lambda = 0.01 RMSE = 0.01"
   ]
  }
 ],
 "metadata": {
  "kernelspec": {
   "display_name": "Python 2",
   "language": "python",
   "name": "python2"
  },
  "language_info": {
   "codemirror_mode": {
    "name": "ipython",
    "version": 2
   },
   "file_extension": ".py",
   "mimetype": "text/x-python",
   "name": "python",
   "nbconvert_exporter": "python",
   "pygments_lexer": "ipython2",
   "version": "2.7.11"
  }
 },
 "nbformat": 4,
 "nbformat_minor": 0
}
