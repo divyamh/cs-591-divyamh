{
 "cells": [
  {
   "cell_type": "markdown",
   "metadata": {},
   "source": [
    "(In order to load the stylesheet of this notebook, execute the last code cell in this notebook)"
   ]
  },
  {
   "cell_type": "markdown",
   "metadata": {},
   "source": [
    "# Yelp Reviews and Clustering"
   ]
  },
  {
   "cell_type": "markdown",
   "metadata": {},
   "source": [
    "In this assignment, we will be working with the [Yelp dataset](http://cs-people.bu.edu/kzhao/teaching/yelp_dataset_challenge_academic_dataset.tar). You can find the format of the dataset [here](https://www.yelp.com/dataset_challenge)."
   ]
  },
  {
   "cell_type": "markdown",
   "metadata": {},
   "source": [
    "First, we will look at Review Objects and perform some [sentiment analysis](http://sentiment.christopherpotts.net/) on the review text.\n",
    "\n",
    "You will need to preprocess the text using a stemming algorithm. The Porter stemming algorithm is a well-known one. Then, use a lexicon to assign a score to a review based on the positive/negative words you find in the text. You can find various lexicons [here](http://sentiment.christopherpotts.net/lexicons.html).\n",
    "\n",
    "After you have assigned scores to the reviews based on the text analysis, compare your scores with the stars associated with the reviews. **(20 pts)**"
   ]
  },
  {
   "cell_type": "code",
   "execution_count": 51,
   "metadata": {
    "collapsed": false
   },
   "outputs": [],
   "source": [
    "import json\n",
    "import nltk\n",
    "from string import punctuation\n",
    "from nltk.stem import PorterStemmer\n",
    "dictionary = {}\n",
    "with open('positive-words.txt') as positive:\n",
    "    for item in positive:\n",
    "        dictionary.update({item.replace('\\n',''):1})\n",
    "with open('negative-words.txt') as negative:\n",
    "    for item in negative:\n",
    "        dictionary.update({item.replace('\\n',''):-1})"
   ]
  },
  {
   "cell_type": "code",
   "execution_count": 54,
   "metadata": {
    "collapsed": false
   },
   "outputs": [],
   "source": [
    "import pandas as pd\n",
    "% matplotlib inline\n",
    "import matplotlib.pyplot as plt\n",
    "import matplotlib as mpl\n",
    "import seaborn as sns\n",
    "from nltk.stem import PorterStemmer\n",
    "stemming = PorterStemmer()\n",
    "actual_stars = []\n",
    "stars_review = []\n",
    "df = pd.DataFrame()\n",
    "with open('yelp_academic_dataset_review.json') as bff:\n",
    "    for line in bff:\n",
    "        jsonData = json.loads(line)\n",
    "        actual_stars.append(float(jsonData[\"stars\"]))\n",
    "        review = jsonData[\"text\"]\n",
    "        count = 0   \n",
    "        r_score = 0\n",
    "        \n",
    "        for item in review.split(' '):\n",
    "            sWord = stemming.stem(item)\n",
    "            if dictionary.get(sWord.lower()):\n",
    "                r_score += dictionary.get(sWord.lower())\n",
    "                count += 1\n",
    "        if count != 0:\n",
    "            new_score = float(r_score)/count\n",
    "            score_star = new_score*2+3\n",
    "            round_star = round(score_star)\n",
    "        else:\n",
    "            round_star = 3.0\n",
    "        stars_review.append(round_star)\n",
    "final={\"Actual_Rating\":actual_stars,\"Predicted_Rating\":stars_review}\n",
    "df = pd.DataFrame(final)\n",
    "\n",
    "d33=df.sort_values(['Actual_Rating', 'Predicted_Rating'], ascending=[True,True])\n",
    "d33.index = range(1,len(d33) + 1)\n"
   ]
  },
  {
   "cell_type": "markdown",
   "metadata": {},
   "source": [
    "Visualization and short (detailed) analysis. **(10 pts)**"
   ]
  },
  {
   "cell_type": "code",
   "execution_count": 56,
   "metadata": {
    "collapsed": false
   },
   "outputs": [
    {
     "name": "stdout",
     "output_type": "stream",
     "text": [
      "0.987222346805\n",
      "Actual_Rating            0\n",
      "Predicted_Rating         0\n",
      "diff                819662\n",
      "dtype: int64\n"
     ]
    },
    {
     "data": {
      "image/png": "[encoded data removed]",
      "text/plain": [
       "<matplotlib.figure.Figure at 0x379666e50>"
      ]
     },
     "metadata": {},
     "output_type": "display_data"
    }
   ],
   "source": [
    "import pandas as pd\n",
    "% matplotlib inline\n",
    "import matplotlib.pyplot as plt\n",
    "import matplotlib as mpl\n",
    "import seaborn as sns\n",
    "\n",
    "sns.heatmap(d33, xticklabels=False, yticklabels=False, linewidths=0)\n",
    "\n",
    "d34=d33\n",
    "zero = 0 \n",
    "d34['diff']= abs(d34['Actual_Rating'] - d34['Predicted_Rating'])\n",
    "print d34['diff'].mean()\n",
    "zero = (d34 == 0).astype(int).sum(axis=0)\n",
    "print zero\n"
   ]
  },
  {
   "cell_type": "markdown",
   "metadata": {},
   "source": [
    "-----------------"
   ]
  },
  {
   "cell_type": "markdown",
   "metadata": {},
   "source": [
    "Above we can see a heat map which basically shows how many of the value are matching. I calculated the average distance between the actual stars given in the review and the stars predicted by me using the review text and there is a average difference of 0.98. Which Implies that my predictions are within +1 and -1 of the actual value.\n",
    "Overall 819662 values out of the total number of review stars are exactly matching where as the others have a little error (+1,-1).\n",
    "\n",
    "The error I'm getting here can be beacuse of multiple reasons. First of all my lexicon doesnt contain all the words thatare being used in the review. There are around 200 reviews that do not match any work from my lexicon thus they get a average score of 3, which is an assumption. Secondly, there are reviews where the customer has written relly long paragraphs and have used a lot of words including good and bad. For example even 'but' is a negtive word which will reduce the score. Even reviews with 5 star have some negatives words but the customer has given 5 star stating for example 'although something was not good it was overall and good experience'"
   ]
  },
  {
   "cell_type": "markdown",
   "metadata": {},
   "source": [
    "Now, let's look at Business Objects. Try to find culinary districts in Las Vegas. These are characterized by closeness and similarity of restaurants. Use the \"longitude\" and \"latitude\" to cluster closeness. Use \"categories\" and \"attributes\" to cluster for similarity.\n",
    "\n",
    "Find clusters using the 3 different techniques we discussed in class: k-means++, hierarchical, and GMM. Explain your data representation and how you determined certain parameters (for example, the number of clusters in k-means++). **(30 pts)**\n",
    "\n",
    "Things you may want to consider:\n",
    "1. The spatial coordinates and restaurant categories/attributes have different units of scale. Your results could be arbitrarily skewed if you don't incorporate some scaling.\n",
    "2. Some restaurant types are inherently more common than others. For example, there are probably lots of \"pizza\" restaurants. You may want to normalize your vectors so that you don't end up with only clusters of \"pizza\" restaurants."
   ]
  },
  {
   "cell_type": "code",
   "execution_count": 2,
   "metadata": {
    "collapsed": false,
    "scrolled": false
   },
   "outputs": [
    {
     "name": "stdout",
     "output_type": "stream",
     "text": [
      "                                             Attributes   Latitude  \\\n",
      "0     Delivery Take-out Price Range Outdoor Seating ...  36.193609   \n",
      "1     Take-out Accepts Credit Cards Price Range Outd...  36.209626   \n",
      "2     Alcohol Noise Level Music Attire Ambience Good...  36.240425   \n",
      "3     Take-out Caters Delivery Takes Reservations Ac...  36.196344   \n",
      "4     Delivery Take-out Drive-Thru Outdoor Seating P...  36.196263   \n",
      "5     Take-out Accepts Credit Cards Drive-Thru Alcoh...  36.195700   \n",
      "6     Take-out Accepts Credit Cards Drive-Thru Outdo...  36.240289   \n",
      "7     Take-out Accepts Credit Cards Drive-Thru Outdo...  36.239855   \n",
      "8     Take-out Drive-Thru Outdoor Seating Noise Leve...  36.239805   \n",
      "9     Alcohol Noise Level Music Attire Ambience Good...  36.240705   \n",
      "10    Drive-Thru Alcohol Noise Level Has TV Attire A...  36.195940   \n",
      "11    Take-out Accepts Credit Cards Price Range Outd...  36.218586   \n",
      "12    Take-out Takes Reservations Delivery Outdoor S...  36.196063   \n",
      "13    Delivery Good For Takes Reservations Waiter Se...  36.196140   \n",
      "14    Take-out Accepts Credit Cards Price Range Outd...  36.218284   \n",
      "15    Take-out Accepts Credit Cards Price Range Outd...  36.196154   \n",
      "16    Take-out Caters Delivery Takes Reservations Ac...  36.195545   \n",
      "17    Take-out Accepts Credit Cards Price Range Outd...  36.204413   \n",
      "18    Take-out Accepts Credit Cards Drive-Thru Outdo...  36.218098   \n",
      "19    Take-out Accepts Credit Cards Price Range Outd...  36.198521   \n",
      "20    Take-out Accepts Credit Cards Price Range Outd...  36.230724   \n",
      "21    Take-out Takes Reservations Delivery Has TV Ou...  36.238374   \n",
      "22    Delivery Take-out Accepts Credit Cards Price R...  36.237514   \n",
      "23    Take-out Accepts Credit Cards Price Range Outd...  36.237893   \n",
      "24    Take-out Accepts Credit Cards Drive-Thru Outdo...  36.239800   \n",
      "25    Take-out Accepts Credit Cards Price Range Outd...  36.230707   \n",
      "26    Drive-Thru Alcohol Open 24 Hours Noise Level H...  36.197409   \n",
      "27    Take-out Accepts Credit Cards Takes Reservatio...  36.239050   \n",
      "28    Take-out Accepts Credit Cards Price Range Outd...  36.239034   \n",
      "29    Take-out Accepts Credit Cards Price Range Outd...  36.240949   \n",
      "...                                                 ...        ...   \n",
      "4900  Take-out Accepts Credit Cards Price Range Outd...  36.067129   \n",
      "4901  Take-out Good For Attire Delivery Has TV Outdo...  36.039781   \n",
      "4902  Take-out Takes Reservations Outdoor Seating At...  36.125058   \n",
      "4903  Take-out Accepts Credit Cards Price Range Outd...  36.263768   \n",
      "4904  Take-out Accepts Credit Cards Drive-Thru Outdo...  36.100513   \n",
      "4905  Take-out Accepts Credit Cards Outdoor Seating ...  36.127224   \n",
      "4906  Take-out Accepts Credit Cards Price Range Outd...  36.166727   \n",
      "4907  Take-out Accepts Credit Cards Price Range Outd...  36.238484   \n",
      "4908  Take-out Accepts Credit Cards Price Range Outd...  36.262606   \n",
      "4909  Take-out Takes Reservations Delivery Attire Ac...  36.129764   \n",
      "4910  Take-out Accepts Credit Cards Price Range Park...  36.169111   \n",
      "4911  Take-out Takes Reservations Delivery Ambience ...  36.123875   \n",
      "4912  Take-out Accepts Credit Cards Good for Kids Go...  36.207087   \n",
      "4913  Take-out Accepts Credit Cards Price Range Outd...  36.124228   \n",
      "4914  Take-out Accepts Credit Cards Price Range Outd...  36.168868   \n",
      "4915                                                     36.271518   \n",
      "4916  Takes Reservations Delivery Good For Attire Ac...  36.112108   \n",
      "4917  Take-out Accepts Credit Cards Price Range Outd...  36.142969   \n",
      "4918  Take-out Takes Reservations Delivery Has TV Ou...  36.030359   \n",
      "4919  Take-out Takes Reservations Delivery Has TV Go...  36.219015   \n",
      "4920  Take-out Good For Attire Delivery Has TV Outdo...  36.060256   \n",
      "4921  Take-out Accepts Credit Cards Drive-Thru Outdo...  36.126606   \n",
      "4922  Take-out Takes Reservations Delivery Outdoor S...  36.143945   \n",
      "4923  Take-out Takes Reservations Delivery Attire Wa...  36.143082   \n",
      "4924  Take-out Good For Takes Reservations Delivery ...  36.126828   \n",
      "4925  Take-out Delivery Takes Reservations Accepts C...  36.238345   \n",
      "4926  Take-out Accepts Credit Cards Outdoor Seating ...  36.044607   \n",
      "4927  Take-out Alcohol Noise Level Takes Reservation...  36.169109   \n",
      "4928  Take-out Accepts Credit Cards Price Range Outd...  36.062946   \n",
      "4929  Take-out Noise Level Parking Good For Attire A...  36.128745   \n",
      "\n",
      "       Longitude                                         categories  \n",
      "0    -115.304009       Wine Bars Bars Restaurants Nightlife Italian  \n",
      "1    -115.107831                                Mexican Restaurants  \n",
      "2    -115.117796  Bars American (Traditional) Nightlife Restaurants  \n",
      "3    -115.105675         Sandwiches Pizza Chicken Wings Restaurants  \n",
      "4    -115.121042                      Burgers Fast Food Restaurants  \n",
      "5    -115.119000                Fast Food Chicken Wings Restaurants  \n",
      "6    -115.120023       American (Traditional) Fast Food Restaurants  \n",
      "7    -115.095260                              Fast Food Restaurants  \n",
      "8    -115.095929                              Fast Food Restaurants  \n",
      "9    -115.096153     Nightlife Bars Mexican Sports Bars Restaurants  \n",
      "10   -115.118133                      Fast Food Mexican Restaurants  \n",
      "11   -115.092635                           Fish & Chips Restaurants  \n",
      "12   -115.124750                         American (New) Restaurants  \n",
      "13   -115.122149                                Burgers Restaurants  \n",
      "14   -115.126022  Breakfast & Brunch American (Traditional) Rest...  \n",
      "15   -115.126747  German Arts & Entertainment Restaurants Social...  \n",
      "16   -115.115528                                  Pizza Restaurants  \n",
      "17   -115.117076                        Seafood Mexican Restaurants  \n",
      "18   -115.116107                                Burgers Restaurants  \n",
      "19   -115.192653                                Mexican Restaurants  \n",
      "20   -115.162672                                  Pizza Restaurants  \n",
      "21   -115.161542                   Fast Food Sandwiches Restaurants  \n",
      "22   -115.159481                             Sandwiches Restaurants  \n",
      "23   -115.160812                                Mexican Restaurants  \n",
      "24   -115.160000                Fast Food Chicken Wings Restaurants  \n",
      "25   -115.162817                                Chinese Restaurants  \n",
      "26   -115.191385  Burgers American (Traditional) Fast Food Resta...  \n",
      "27   -115.201828                                  Pizza Restaurants  \n",
      "28   -115.167811                                Mexican Restaurants  \n",
      "29   -115.159207                             Sandwiches Restaurants  \n",
      "...          ...                                                ...  \n",
      "4900 -115.178148                 Nightlife Seafood Bars Restaurants  \n",
      "4901 -115.190902                                Mexican Restaurants  \n",
      "4902 -115.192300                       Szechuan Chinese Restaurants  \n",
      "4903 -115.117608                          Chicken Wings Restaurants  \n",
      "4904 -115.186880  American (Traditional) Fast Food Chicken Wings...  \n",
      "4905 -115.171551              Sushi Bars American (New) Restaurants  \n",
      "4906 -115.286842  Bars American (Traditional) Southern Nightlife...  \n",
      "4907 -115.224548                          Mediterranean Restaurants  \n",
      "4908 -115.179417                          Mediterranean Restaurants  \n",
      "4909 -115.315073                          Italian Pizza Restaurants  \n",
      "4910 -115.291303                  Live/Raw Food Seafood Restaurants  \n",
      "4911 -115.279439  Food Specialty Food Comfort Food Asian Fusion ...  \n",
      "4912 -115.267999                   Bars Pizza Nightlife Restaurants  \n",
      "4913 -115.168470                   Asian Fusion Chinese Restaurants  \n",
      "4914 -115.140243                     Gastropubs British Restaurants  \n",
      "4915 -115.206473                      Fast Food Mexican Restaurants  \n",
      "4916 -115.279390  Food Coffee & Tea American (New) Breakfast & B...  \n",
      "4917 -115.280103                                Restaurants Italian  \n",
      "4918 -115.135332                             Sushi Bars Restaurants  \n",
      "4919 -115.276811             Delis Fast Food Sandwiches Restaurants  \n",
      "4920 -115.278746                                Mexican Restaurants  \n",
      "4921 -115.225239                                Burgers Restaurants  \n",
      "4922 -115.064099                                Mexican Restaurants  \n",
      "4923 -115.253626                           Asian Fusion Restaurants  \n",
      "4924 -115.213149      Seafood Cantonese Dim Sum Chinese Restaurants  \n",
      "4925 -115.155079                                Mexican Restaurants  \n",
      "4926 -115.242600                        Korean Barbeque Restaurants  \n",
      "4927 -115.140062  Bars Fondue Cocktail Bars Nightlife Lounges Re...  \n",
      "4928 -115.246120                  Soup Sandwiches Salad Restaurants  \n",
      "4929 -115.164242                 American (Traditional) Restaurants  \n",
      "\n",
      "[4930 rows x 4 columns]\n"
     ]
    }
   ],
   "source": [
    "import json\n",
    "import pandas as pd\n",
    "from nltk.stem import PorterStemmer\n",
    "import matplotlib.pyplot as plt\n",
    "from sklearn.feature_extraction.text import CountVectorizer\n",
    "import numpy as np\n",
    "from sklearn.preprocessing import StandardScaler\n",
    "from sklearn import preprocessing\n",
    "from sklearn.cluster import KMeans\n",
    "import seaborn as sns\n",
    "import matplotlib as mpl\n",
    "%matplotlib inline\n",
    "\n",
    "datab=[]\n",
    "data2= []\n",
    "dictb = {}\n",
    "jsondictadd = {}\n",
    "address = {}\n",
    "catdata= []\n",
    "attdata= []\n",
    "latdata= []\n",
    "longdata= []\n",
    "with open('yelp_academic_dataset_business.json') as bf:\n",
    "    for line in bf:\n",
    "        jsonData = json.loads(line)\n",
    "        jsondictadd['address'] = jsonData['full_address']\n",
    "        jsondictadd['category'] = jsonData['categories']\n",
    "        category = jsondictadd['category']\n",
    "        address = jsondictadd['address']\n",
    "        if 'Las Vegas' in address:\n",
    "            if 'Restaurants' in category:\n",
    "                dictb = {}\n",
    "                dictb['id'] =  jsonData['business_id']\n",
    "                dictb['latitude'] = jsonData['latitude']\n",
    "                dictb['longitude'] = jsonData['longitude']\n",
    "                dictb['category'] = jsonData['categories']\n",
    "                dictb['attribute'] = jsonData['attributes']\n",
    "                attribute= dictb['attribute']\n",
    "                longitude = dictb[\"longitude\"]\n",
    "                lattitude = dictb[\"latitude\"]\n",
    "                catdata.append(category)\n",
    "                attdata.append(attribute)\n",
    "                datab.append(dictb)\n",
    "                longdata.append(longitude)\n",
    "                latdata.append(lattitude)\n",
    "\n",
    "category = []\n",
    "for k in range(len(catdata)):\n",
    "    value = ' '.join(catdata[i])\n",
    "    category.append(value)\n",
    "attribute = []\n",
    "for k in range(len(attdata)):\n",
    "    value = ' '.join(attdata[i])\n",
    "    attribute.append(value)\n",
    "data2 ={\"Longitude\":longdata,\"Latitude\":latdata,\"Attributes\":attribute,\"categories\":category} \n",
    "\n",
    "\n",
    "dfb = pd.DataFrame.from_records(data2)\n",
    "print dfb"
   ]
  },
  {
   "cell_type": "code",
   "execution_count": 88,
   "metadata": {
    "collapsed": false
   },
   "outputs": [
    {
     "name": "stdout",
     "output_type": "stream",
     "text": [
      "      Latitude  Longitude  chinese  indian  american  mexican  mediterranean  \\\n",
      "0     0.633925   0.111473        0       0         0        0              0   \n",
      "1     0.678296   0.568107        0       0         0        1              0   \n",
      "2     0.763614   0.544912        0       0         1        0              0   \n",
      "3     0.641501   0.573125        0       0         0        0              0   \n",
      "4     0.641275   0.537355        0       0         0        0              0   \n",
      "5     0.639717   0.542109        0       0         0        0              0   \n",
      "6     0.763237   0.539728        0       0         1        0              0   \n",
      "7     0.762035   0.597367        0       0         0        0              0   \n",
      "8     0.761895   0.595810        0       0         0        0              0   \n",
      "9     0.764389   0.595290        0       0         0        1              0   \n",
      "10    0.640382   0.544127        0       0         0        1              0   \n",
      "11    0.703115   0.603478        0       0         0        0              0   \n",
      "12    0.640721   0.528724        0       0         1        0              0   \n",
      "13    0.640935   0.534779        0       0         0        0              0   \n",
      "14    0.702280   0.525764        0       0         1        0              0   \n",
      "15    0.640974   0.524077        0       0         0        0              0   \n",
      "16    0.639287   0.550190        0       0         0        0              0   \n",
      "17    0.663854   0.546587        0       0         0        1              0   \n",
      "18    0.701763   0.548843        0       0         0        0              0   \n",
      "19    0.647532   0.370672        0       0         0        1              0   \n",
      "20    0.736740   0.440456        0       0         0        0              0   \n",
      "21    0.757932   0.443086        0       0         0        0              0   \n",
      "22    0.755548   0.447884        0       0         0        0              0   \n",
      "23    0.756600   0.444785        0       0         0        1              0   \n",
      "24    0.761882   0.446675        0       0         0        0              0   \n",
      "25    0.736692   0.440119        1       0         0        0              0   \n",
      "26    0.644451   0.373622        0       0         1        0              0   \n",
      "27    0.759803   0.349314        0       0         0        0              0   \n",
      "28    0.759761   0.428495        0       0         0        1              0   \n",
      "29    0.765065   0.448521        0       0         0        0              0   \n",
      "...        ...        ...      ...     ...       ...      ...            ...   \n",
      "4900  0.283550   0.404433        0       0         0        0              0   \n",
      "4901  0.207790   0.374747        0       0         0        1              0   \n",
      "4902  0.444025   0.371492        1       0         0        0              0   \n",
      "4903  0.828278   0.545348        0       0         0        0              0   \n",
      "4904  0.376028   0.384108        0       0         1        0              0   \n",
      "4905  0.450025   0.419788        0       0         1        0              0   \n",
      "4906  0.559456   0.151433        0       0         1        0              0   \n",
      "4907  0.758238   0.296430        0       0         0        0              1   \n",
      "4908  0.825059   0.401479        0       0         0        0              1   \n",
      "4909  0.457059   0.085720        0       0         0        0              0   \n",
      "4910  0.566059   0.141048        0       0         0        0              0   \n",
      "4911  0.440748   0.168664        0       0         0        0              0   \n",
      "4912  0.671260   0.195292        0       0         0        0              0   \n",
      "4913  0.441726   0.426961        1       0         0        0              0   \n",
      "4914  0.565388   0.492663        0       0         0        0              0   \n",
      "4915  0.849748   0.338503        0       0         0        1              0   \n",
      "4916  0.408151   0.168778        0       0         1        0              0   \n",
      "4917  0.493641   0.167118        0       0         0        0              0   \n",
      "4918  0.181689   0.504094        0       0         0        0              0   \n",
      "4919  0.704303   0.174781        0       0         0        0              0   \n",
      "4920  0.264510   0.170278        0       0         0        1              0   \n",
      "4921  0.448311   0.294822        0       0         0        0              0   \n",
      "4922  0.496345   0.669899        0       0         0        1              0   \n",
      "4923  0.493953   0.228748        0       0         0        0              0   \n",
      "4924  0.448929   0.322963        1       0         0        0              0   \n",
      "4925  0.757853   0.458130        0       0         0        1              0   \n",
      "4926  0.221159   0.254411        0       0         0        0              0   \n",
      "4927  0.566054   0.493083        0       0         0        0              0   \n",
      "4928  0.271962   0.246218        0       0         0        0              0   \n",
      "4929  0.454237   0.436803        0       0         1        0              0   \n",
      "\n",
      "      italian  asian  bars  nightlife  \n",
      "0           1      0     2          1  \n",
      "1           0      0     0          0  \n",
      "2           0      0     1          1  \n",
      "3           0      0     0          0  \n",
      "4           0      0     0          0  \n",
      "5           0      0     0          0  \n",
      "6           0      0     0          0  \n",
      "7           0      0     0          0  \n",
      "8           0      0     0          0  \n",
      "9           0      0     2          1  \n",
      "10          0      0     0          0  \n",
      "11          0      0     0          0  \n",
      "12          0      0     0          0  \n",
      "13          0      0     0          0  \n",
      "14          0      0     0          0  \n",
      "15          0      0     0          0  \n",
      "16          0      0     0          0  \n",
      "17          0      0     0          0  \n",
      "18          0      0     0          0  \n",
      "19          0      0     0          0  \n",
      "20          0      0     0          0  \n",
      "21          0      0     0          0  \n",
      "22          0      0     0          0  \n",
      "23          0      0     0          0  \n",
      "24          0      0     0          0  \n",
      "25          0      0     0          0  \n",
      "26          0      0     0          0  \n",
      "27          0      0     0          0  \n",
      "28          0      0     0          0  \n",
      "29          0      0     0          0  \n",
      "...       ...    ...   ...        ...  \n",
      "4900        0      0     1          1  \n",
      "4901        0      0     0          0  \n",
      "4902        0      0     0          0  \n",
      "4903        0      0     0          0  \n",
      "4904        0      0     0          0  \n",
      "4905        0      0     1          0  \n",
      "4906        0      0     1          1  \n",
      "4907        0      0     0          0  \n",
      "4908        0      0     0          0  \n",
      "4909        1      0     0          0  \n",
      "4910        0      0     0          0  \n",
      "4911        0      1     0          0  \n",
      "4912        0      0     1          1  \n",
      "4913        0      1     0          0  \n",
      "4914        0      0     0          0  \n",
      "4915        0      0     0          0  \n",
      "4916        0      0     0          0  \n",
      "4917        1      0     0          0  \n",
      "4918        0      0     1          0  \n",
      "4919        0      0     0          0  \n",
      "4920        0      0     0          0  \n",
      "4921        0      0     0          0  \n",
      "4922        0      0     0          0  \n",
      "4923        0      1     0          0  \n",
      "4924        0      0     0          0  \n",
      "4925        0      0     0          0  \n",
      "4926        0      0     0          0  \n",
      "4927        0      0     2          1  \n",
      "4928        0      0     0          0  \n",
      "4929        0      0     0          0  \n",
      "\n",
      "[4930 rows x 11 columns]\n"
     ]
    }
   ],
   "source": [
    "from sklearn.feature_extraction.text import CountVectorizer\n",
    "from sklearn import preprocessing\n",
    "%matplotlib inline\n",
    "\n",
    "countVector = CountVectorizer(min_df=1)\n",
    "\n",
    "\n",
    "dfcate=pd.DataFrame(countVector.fit_transform(dfb.categories).toarray(), columns=countVector.get_feature_names())\n",
    "\n",
    "dflist = pd.concat([dfb['Latitude'],dfb['Longitude'],dfcate['chinese'],dfcate['indian'],dfcate['american'],dfcate['mexican'],dfcate['mediterranean'],dfcate['italian'],dfcate['asian'],dfcate['bars'],dfcate['nightlife']],axis=1)\n",
    "\n",
    "dflist['Latitude'] = dflist['Latitude'].apply(lambda x: (x-dflist['Latitude'].min())/(dflist['Latitude'].max()-dflist['Latitude'].min()))\n",
    "dflist['Longitude'] = dflist['Longitude'].apply(lambda x: (x-dflist['Longitude'].min())/(dflist['Longitude'].max()-dflist['Longitude'].min()))\n",
    "\n",
    "print dflist\n"
   ]
  },
  {
   "cell_type": "code",
   "execution_count": 60,
   "metadata": {
    "collapsed": false
   },
   "outputs": [
    {
     "data": {
      "text/plain": [
       "<matplotlib.text.Text at 0x384cea390>"
      ]
     },
     "execution_count": 60,
     "metadata": {},
     "output_type": "execute_result"
    },
    {
     "data": {
      "image/png": "[encoded data removed]",
      "text/plain": [
       "<matplotlib.figure.Figure at 0x379664f10>"
      ]
     },
     "metadata": {},
     "output_type": "display_data"
    }
   ],
   "source": [
    "# we are plotting to see the number of clusters to be taken to get less error\n",
    "\n",
    "import numpy as np\n",
    "mis = np.zeros(30)\n",
    "mis[0] = 0;\n",
    "for key in range(1,30):\n",
    "    kmeans = KMeans(init='k-means++', n_clusters=key, n_init=100)\n",
    "    kmeans.fit_predict(dflist)\n",
    "    mis[key] = kmeans.inertia_\n",
    "\n",
    "plt.plot(range(1,len(mis)),mis[1:])\n",
    "plt.xlabel('Number of clusters')\n",
    "plt.ylabel('Error')"
   ]
  },
  {
   "cell_type": "code",
   "execution_count": 61,
   "metadata": {
    "collapsed": false
   },
   "outputs": [
    {
     "name": "stdout",
     "output_type": "stream",
     "text": [
      "Total error in clustering is:  643.092578633\n"
     ]
    }
   ],
   "source": [
    "# looking at the graph above I am taking 10 clusters\n",
    "\n",
    "kmeans = KMeans(init='k-means++', n_clusters=10, n_init=100)\n",
    "kmeans.fit_predict(dflist)\n",
    "centroids = kmeans.cluster_centers_\n",
    "labels = kmeans.labels_\n",
    "mis = kmeans.inertia_\n",
    "print \"Total error in clustering is: \", mis"
   ]
  },
  {
   "cell_type": "code",
   "execution_count": 62,
   "metadata": {
    "collapsed": false
   },
   "outputs": [],
   "source": [
    "dfclus = pd.DataFrame.copy(dflist)\n",
    "dfclus['labels'] = labels\n",
    "dfclus=dfclus.drop('Latitude',axis=1)\n",
    "dfclus=dfclus.drop('Longitude',axis=1)\n",
    "dfclus['Latitude'] = dfb['Latitude']\n",
    "dfclus['Longitude'] = dfb['Longitude']\n",
    "\n",
    "df_dict1 = {}\n",
    "for key in range(0,10):\n",
    "    df_dict1[key]=(dfclus[dfclus['labels'] == key])\n"
   ]
  },
  {
   "cell_type": "code",
   "execution_count": 82,
   "metadata": {
    "collapsed": false
   },
   "outputs": [],
   "source": [
    "import numpy as np\n",
    "from scipy import linalg\n",
    "from sklearn import mixture\n",
    "import gmplot\n",
    "\n",
    "arr = dflist.as_matrix()\n",
    "gmm = mixture.GMM(n_components=10, covariance_type='diag')\n",
    "gmm.fit(arr)\n",
    "aa = gmm.predict(arr)\n",
    "\n",
    "dfgmm = pd.DataFrame.copy(dflist)\n",
    "dfgmm['labels'] = aa\n",
    "dfgmm=dfgmm.drop('Latitude',axis=1)\n",
    "dfgmm=dfgmm.drop('Longitude',axis=1)\n",
    "dfgmm['Latitude'] = dfb['Latitude']\n",
    "dfgmm['Longitude'] = dfb['Longitude']\n",
    "df_dict2 = {}\n",
    "for key in range(0,10):\n",
    "    df_dict2[key]=(dfgmm[dfgmm['labels'] == key])\n"
   ]
  },
  {
   "cell_type": "code",
   "execution_count": 91,
   "metadata": {
    "collapsed": false
   },
   "outputs": [
    {
     "data": {
      "image/png": "[encoded data removed]",
      "text/plain": [
       "<matplotlib.figure.Figure at 0x13f36e790>"
      ]
     },
     "metadata": {},
     "output_type": "display_data"
    }
   ],
   "source": [
    "# Hierarchical Clustering dendrogram\n",
    "\n",
    "%matplotlib inline\n",
    "import scipy.sparse.linalg as linalg\n",
    "import scipy.cluster.hierarchy as hr\n",
    "import matplotlib.pyplot as plt\n",
    "\n",
    "Z = hr.linkage(arr, method='complete', metric='euclidean')\n",
    "fig = plt.figure(figsize=(10,10))\n",
    "T = hr.dendrogram(Z,leaf_font_size=4)\n",
    "fig.show()"
   ]
  },
  {
   "cell_type": "markdown",
   "metadata": {},
   "source": [
    "Visualize your clusters using each technique. Label your clusters. **(10 pts)**"
   ]
  },
  {
   "cell_type": "code",
   "execution_count": null,
   "metadata": {
    "collapsed": true
   },
   "outputs": [],
   "source": [
    "import itertools\n",
    "import gmplot\n",
    "gmap = gmplot.GoogleMapPlotter(36, -115, 10)\n",
    "colors = itertools.cycle([\"r\", \"b\", \"g\",\"y\",\"c\",\"k\",\"m\",\"#800080\",\"#008080\", \"#d2691e\"])\n",
    "\n",
    "#plotting kmeann++ clusters\n",
    "\n",
    "for key in range(0,10):\n",
    "    c=next(colors)\n",
    "    gmap.scatter(df_dict1[key].Latitude,df_dict1[key].Longitude, c=c, marker=False, Label= key)\n",
    "\n",
    "gmap.draw(\"kmeansplot.html\")\n",
    "\n",
    "# plotting gmm clusters\n",
    "for key in range(0,10):\n",
    "    c=next(colors)\n",
    "    gmap.scatter(df_dict2[key].Latitude,df_dict2[key].Longitude, c=c, marker=False, Label = key)\n",
    "\n",
    "\n",
    "gmap.draw(\"gmmplot.html\")\n"
   ]
  },
  {
   "cell_type": "markdown",
   "metadata": {},
   "source": [
    "The plots are uploaded on the github repo. The key for the plot is given here:\n",
    "    Label-0 : Color-red      : Mexican Food\n",
    "    Label-1 : Color-blue     : Resturents with bar\n",
    "    Label-2 : Color-green    : Indian Food\n",
    "    Label-3 : Color-yellow   : Chinese Food\n",
    "    Label-4 : Color-cyan     : American Food\n",
    "    Label-5 : Color-black    : Resturents with nightlife\n",
    "    Label-6 : Color-magenta  : Italian Food\n",
    "    Label-7 : Color-purple   : American Food with bar and nightlife\n",
    "    Label-8 : Color-sea green: mediterranean Food \n",
    "    Label-9 : Color-Cinnamon : Asian Food\n",
    "        "
   ]
  },
  {
   "cell_type": "markdown",
   "metadata": {},
   "source": [
    "Now let's detect outliers. These are the ones who are the farthest from the centroids of their clusters. Track them down and describe any interesting observations that you can make. **(10 pts)**"
   ]
  },
  {
   "cell_type": "code",
   "execution_count": null,
   "metadata": {
    "collapsed": true
   },
   "outputs": [],
   "source": []
  },
  {
   "cell_type": "markdown",
   "metadata": {},
   "source": [
    "Give a short (detailed) analysis comparing the 3 techniques. **(10 pts)**"
   ]
  },
  {
   "cell_type": "markdown",
   "metadata": {},
   "source": [
    "k-means++ clustering aims to partition n observations into k clusters in which each observation belongs to the cluster with the nearest mean, serving as a prototype of the cluster. It works by iteratively reassigning data points to clusters and computing cluster centers based on the average of the point locations. The k-means++ algorithm gives a procedure to initialize the cluster centers before proceeding with the standard k-means optimization iterations. With the k-means++ initialization, the algorithm is guaranteed to find a solution that is O(log k) competitive to the optimal k-means solution.\n",
    "\n",
    "Hierarchical Clustering finds a pair of clusters to merge into a new cluster that has the shortest cluster distance.\n",
    "In this partitions can be visualized using a tree structure (a dendrogram), it does not need the number of clusters as input to start with. With Hierarchical Clustering it is possible to view partitions at different levels of granularities (i.e., can refine/coarsen clusters) using different K.\n",
    "\n",
    "A Gaussian mixture model can be viewed as a mixture of heterogenous populations whose underlying mean follows a Gaussian distribution, in GMM each cluster has their own independent mean and covariance. Furthermore k-means performs hard assignments of data points to clusters whereas in GMM we get a collection of independant gaussian distributions, and for each data point we have a probability that it belongs to one of the distributions.\n"
   ]
  },
  {
   "cell_type": "markdown",
   "metadata": {},
   "source": [
    "-----------------"
   ]
  },
  {
   "cell_type": "code",
   "execution_count": 93,
   "metadata": {
    "collapsed": false
   },
   "outputs": [
    {
     "data": {
      "text/html": [
       "<link href='http://fonts.googleapis.com/css?family=EB+Garamond' rel='stylesheet' type='text/css'>\r\n",
       "<link href='http://fonts.googleapis.com/css?family=Alegreya+Sans:100,300,400,500,700,800,900,100italic,300italic,400italic,500italic,700italic,800italic,900italic' rel='stylesheet' type='text/css'>\r\n",
       "<link href='http://fonts.googleapis.com/css?family=Source+Code+Pro:300,400' rel='stylesheet' type='text/css'>\r\n",
       "<style>\r\n",
       "    @font-face {\r\n",
       "        font-family: \"Computer Modern\";\r\n",
       "        src: url('http://mirrors.ctan.org/fonts/cm-unicode/fonts/otf/cmunss.otf');\r\n",
       "    }\r\n",
       "    .code_cell {\r\n",
       "        width: 105ex !important ;\r\n",
       "        margin-bottom: 15px !important;\r\n",
       "    }\r\n",
       "    div.cell {\r\n",
       "        margin-left: auto;\r\n",
       "        margin-right: auto;\r\n",
       "        width: 70%;\r\n",
       "    }    \r\n",
       "    div.cell.selected {\r\n",
       "        border: thin rgba(171, 171, 171, 0.5) dashed;\r\n",
       "    }\r\n",
       "    h1 {\r\n",
       "        font-family: 'Alegreya Sans', sans-serif;\r\n",
       "    }\r\n",
       "    h2 {\r\n",
       "        font-family: 'EB Garamond', serif;\r\n",
       "    }\r\n",
       "    h3 {\r\n",
       "        font-family: 'EB Garamond', serif;\r\n",
       "        margin-top:12px;\r\n",
       "        margin-bottom: 3px;\r\n",
       "    }\r\n",
       "    h4 {\r\n",
       "        font-family: 'EB Garamond', serif;\r\n",
       "    }\r\n",
       "    h5 {\r\n",
       "        font-family: 'Alegreya Sans', sans-serif;\r\n",
       "    }\r\n",
       "    div.text_cell_render {\r\n",
       "        font-family: 'EB Garamond',Computer Modern, \"Helvetica Neue\", Arial, Helvetica, Geneva, sans-serif;\r\n",
       "        line-height: 145%;\r\n",
       "        font-size: 140%;\r\n",
       "    }\r\n",
       "    div.input_area {\r\n",
       "        border-color: rgba(0,0,0,0.10) !important;\r\n",
       "        background: #fafafa;\r\n",
       "    }\r\n",
       "    .CodeMirror {\r\n",
       "            font-family: \"Source Code Pro\";\r\n",
       "            font-size: 90%;\r\n",
       "    }\r\n",
       "    .prompt {\r\n",
       "        display: None;\r\n",
       "    }\r\n",
       "    .output {\r\n",
       "        padding-left: 50px;\r\n",
       "        padding-top: 5px;\r\n",
       "    }\r\n",
       "    .output_wrapper {\r\n",
       "        padding-left: 5px;\r\n",
       "        padding-top: inherit;\r\n",
       "    }\r\n",
       "    div.output_scroll {\r\n",
       "        width: inherit;\r\n",
       "    }\r\n",
       "    .inner_cell {\r\n",
       "        padding-left: 5px;\r\n",
       "    }\r\n",
       "    .text_cell_render h1 {\r\n",
       "        font-weight: 200;\r\n",
       "        font-size: 50pt;\r\n",
       "        line-height: 100%;\r\n",
       "        color:#CD2305;\r\n",
       "        margin-bottom: 0.5em;\r\n",
       "        margin-top: 0.5em;\r\n",
       "        display: block;\r\n",
       "    }\r\n",
       "    .text_cell_render h5 {\r\n",
       "        font-weight: 300;\r\n",
       "        font-size: 16pt;\r\n",
       "        color: #CD2305;\r\n",
       "        font-style: italic;\r\n",
       "        margin-bottom: .5em;\r\n",
       "        margin-top: 0.5em;\r\n",
       "        display: block;\r\n",
       "    }\r\n",
       "    .warning {\r\n",
       "        color: rgb( 240, 20, 20 )\r\n",
       "        }  \r\n",
       "</style>\r\n",
       "<script>\r\n",
       "    MathJax.Hub.Config({\r\n",
       "                        TeX: {\r\n",
       "                           extensions: [\"AMSmath.js\"]\r\n",
       "                           },\r\n",
       "                tex2jax: {\r\n",
       "                    inlineMath: [ ['$','$'], [\"\\\\(\",\"\\\\)\"] ],\r\n",
       "                    displayMath: [ ['$$','$$'], [\"\\\\[\",\"\\\\]\"] ]\r\n",
       "                },\r\n",
       "                displayAlign: 'center', // Change this to 'center' to center equations.\r\n",
       "                \"HTML-CSS\": {\r\n",
       "                    styles: {'.MathJax_Display': {\"margin\": 4}}\r\n",
       "                }\r\n",
       "        });\r\n",
       "</script>"
      ],
      "text/plain": [
       "<IPython.core.display.HTML object>"
      ]
     },
     "execution_count": 93,
     "metadata": {},
     "output_type": "execute_result"
    }
   ],
   "source": [
    "# Code for setting the style of the notebook\n",
    "from IPython.core.display import HTML\n",
    "def css_styling():\n",
    "    styles = open(\"custom.css\", \"r\").read()\n",
    "    return HTML(styles)\n",
    "css_styling()"
   ]
  },
  {
   "cell_type": "code",
   "execution_count": null,
   "metadata": {
    "collapsed": true
   },
   "outputs": [],
   "source": []
  }
 ],
 "metadata": {
  "kernelspec": {
   "display_name": "Python 2",
   "language": "python",
   "name": "python2"
  },
  "language_info": {
   "codemirror_mode": {
    "name": "ipython",
    "version": 2
   },
   "file_extension": ".py",
   "mimetype": "text/x-python",
   "name": "python",
   "nbconvert_exporter": "python",
   "pygments_lexer": "ipython2",
   "version": "2.7.11"
  }
 },
 "nbformat": 4,
 "nbformat_minor": 0
}
